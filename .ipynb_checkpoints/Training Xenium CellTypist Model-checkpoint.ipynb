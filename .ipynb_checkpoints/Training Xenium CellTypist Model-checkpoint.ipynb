{
 "cells": [
  {
   "cell_type": "markdown",
   "id": "976626f1-7f53-408a-8033-efe6d8410b52",
   "metadata": {},
   "source": [
    "# How to Train a CellTypist Model on Xenium Data"
   ]
  },
  {
   "cell_type": "markdown",
   "id": "9337f06f-e906-4926-a47a-e15e847b9a74",
   "metadata": {},
   "source": [
    "**Prerequisites**: \n",
    "- a virtual enviroment (eg conda environment) with celltypist from the Teich Lab installed (refer to https://github.com/Teichlab/celltypist)\n",
    "- "
   ]
  },
  {
   "cell_type": "code",
   "execution_count": null,
   "id": "a2ad3ab4-dcb2-4550-ba66-b9fcb209687a",
   "metadata": {},
   "outputs": [],
   "source": []
  }
 ],
 "metadata": {
  "kernelspec": {
   "display_name": "Python [conda env:celltyping]",
   "language": "python",
   "name": "conda-env-celltyping-py"
  },
  "language_info": {
   "codemirror_mode": {
    "name": "ipython",
    "version": 3
   },
   "file_extension": ".py",
   "mimetype": "text/x-python",
   "name": "python",
   "nbconvert_exporter": "python",
   "pygments_lexer": "ipython3",
   "version": "3.10.16"
  }
 },
 "nbformat": 4,
 "nbformat_minor": 5
}
