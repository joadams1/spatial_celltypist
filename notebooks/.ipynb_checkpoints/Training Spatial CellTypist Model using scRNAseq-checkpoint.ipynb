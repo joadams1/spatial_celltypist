{
 "cells": [
  {
   "cell_type": "markdown",
   "id": "42b85c3f-bb17-4a94-a6ea-c8b5b7e049d7",
   "metadata": {},
   "source": [
    "# How to Train a Spatial CellTypist Model using scRNAseq Data"
   ]
  },
  {
   "cell_type": "markdown",
   "id": "cdfe2512-bcf3-423b-b0c0-3034492005b3",
   "metadata": {},
   "source": [
    "#### **Prerequisites**: \n",
    "- A virtual enviroment (eg conda environment) with CellTypist from the Teich Lab installed (refer to [the GitHub](https://github.com/Teichlab/celltypist))\n",
    "- Preprocessed and cell typed single-cell dataset saved in AnnData format\n",
    "\n",
    "For this workflow, I will be using the **Lung** dataset (avaliable [here]()) that is used in the Segger paper (Heidari, Moorman et al. [*bioRxiv*](https://www.biorxiv.org/content/10.1101/2025.03.14.643160v1) 2025, [GitHub](https://github.com/dpeerlab/segger-analysis/))."
   ]
  },
  {
   "cell_type": "code",
   "execution_count": 1,
   "id": "a75ea5ee-ee50-4647-ad7d-853dc65ed939",
   "metadata": {},
   "outputs": [],
   "source": [
    "import celltypist as ct\n",
    "import ast\n",
    "from matplotlib import pyplot as plt\n",
    "from pathlib import Path\n",
    "import seaborn as sns\n",
    "from tqdm import tqdm\n",
    "import scanpy as sc\n",
    "import pandas as pd\n",
    "import numpy as np\n",
    "import scipy as sp\n",
    "import warnings\n",
    "import json\n",
    "import sys\n",
    "import os"
   ]
  },
  {
   "cell_type": "markdown",
   "id": "e989db38-048b-4cf6-ad7d-af257dc62e76",
   "metadata": {
    "tags": []
   },
   "source": [
    "## Training a CellTypist Model on scRNAseq Data\n",
    "For a more in-depth explanation of CellTypist and model training, refer to this [SAIL GitHub](https://github.com/joadams1/celltypist/blob/main/celltypist/How%20To%20Train%20a%20CellTypist%20Model.ipynb).\n",
    "\n",
    "In some cases, it is suitable to train a CellTypist model for spatial data on an annotated scRNA-seq dataset. But to do this there are some steps you must take first to make the RNA data more like Xenium data. Primarily, Xenium captures far fewer reads per cell than scRNA-seq data, so to make the two more comparable, you need to downsample the data to Xenium-level reads.  "
   ]
  },
  {
   "cell_type": "code",
   "execution_count": null,
   "id": "eda38ef1-1545-45ca-9db9-d7819edf796a",
   "metadata": {},
   "outputs": [],
   "source": [
    "# NSCLC Atlas\n",
    "filepath_ad = 'data_spatial/core_nsclc_atlas_panel_only.h5ad'\n",
    "ad_atlas = sc.read_h5ad(filepath_ad)\n",
    "\n",
    "# Re-normalize counts to 10K total\n",
    "ad_atlas.X = ad_atlas.layers['count'].copy()\n",
    "sc.pp.downsample_counts(ad_atlas, counts_per_cell=100)\n",
    "ad_atlas.layers['norm_100'] = ad_atlas.X.copy()\n",
    "sc.pp.normalize_total(ad_atlas, layer='norm_100', target_sum=1e2)\n",
    "\n",
    "# Logarthmize\n",
    "ad_atlas.layers['lognorm_100'] = ad_atlas.layers['norm_100'].copy()\n",
    "if 'log1p' in ad_atlas.uns:\n",
    "    del ad_atlas.uns['log1p']\n",
    "sc.pp.log1p(ad_atlas, layer='lognorm_100')"
   ]
  },
  {
   "cell_type": "markdown",
   "id": "9c645f68-1aa1-494b-9c06-498d77258b8b",
   "metadata": {},
   "source": [
    "In order to balance out the cell types and not lose any during model training, you can subset your data to include the same number of cells per cell type. "
   ]
  },
  {
   "cell_type": "code",
   "execution_count": null,
   "id": "89c68494-32e7-44a7-9a39-200cc11941a7",
   "metadata": {},
   "outputs": [],
   "source": [
    "gb = ad_atlas.obs.groupby('cell_type')\n",
    "sample = gb.sample(2000, replace=True).index.drop_duplicates()"
   ]
  },
  {
   "cell_type": "markdown",
   "id": "9290785d-89bc-4bb9-b4ea-9bb4dc8d77c9",
   "metadata": {},
   "source": [
    "Now that you have adjusted the scRNA-seq data, you can train a CellTypist Model. "
   ]
  },
  {
   "cell_type": "code",
   "execution_count": 10,
   "id": "c2c3be98-1805-410d-a778-b0b93f67b682",
   "metadata": {},
   "outputs": [
    {
     "name": "stderr",
     "output_type": "stream",
     "text": [
      "🍳 Preparing data before training\n",
      "🔬 Input data has 23569 cells and 425 genes\n",
      "⚖️ Scaling input data\n",
      "🏋️ Training data using logistic regression\n",
      "✅ Model training done!\n"
     ]
    }
   ],
   "source": [
    "# Predict on log counts\n",
    "ad_atlas.X = ad_atlas.layers['lognorm_1k']\n",
    "\n",
    "ct_model = ct.train(\n",
    "    ad_atlas[sample],\n",
    "    labels='cell_compartment',\n",
    "    check_expression=False,\n",
    "    n_jobs=32,\n",
    "    max_iter=100,\n",
    ")\n",
    "\n",
    "filepath_ct = 'models/nsclc_celltypist_model.pkl' #replace with your path\n",
    "ct_model.write(filepath)"
   ]
  },
  {
   "cell_type": "markdown",
   "id": "48457c68-f6ae-4118-b231-f6bc4142bf51",
   "metadata": {},
   "source": [
    "Now you can use this model to train other datasets. For an explanatory work-through for how to do so, see the [`Using Xenium CellTypist Models`](https://github.com/joadams1/spatial_celltypist/blob/main/notebooks/Using%20Xenium%20CellTypist%20Model.ipynb) notebook. "
   ]
  }
 ],
 "metadata": {
  "kernelspec": {
   "display_name": "Python [conda env:celltyping]",
   "language": "python",
   "name": "conda-env-celltyping-py"
  },
  "language_info": {
   "codemirror_mode": {
    "name": "ipython",
    "version": 3
   },
   "file_extension": ".py",
   "mimetype": "text/x-python",
   "name": "python",
   "nbconvert_exporter": "python",
   "pygments_lexer": "ipython3",
   "version": "3.10.16"
  }
 },
 "nbformat": 4,
 "nbformat_minor": 5
}
