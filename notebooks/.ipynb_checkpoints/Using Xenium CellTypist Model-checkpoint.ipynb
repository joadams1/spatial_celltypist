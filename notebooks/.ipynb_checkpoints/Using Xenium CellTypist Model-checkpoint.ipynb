{
 "cells": [
  {
   "cell_type": "markdown",
   "id": "8e27d3a1-4900-4df0-831e-d33e46be0940",
   "metadata": {},
   "source": [
    "# Applying a Spatial CellTypist Model to Xenium Data"
   ]
  },
  {
   "cell_type": "code",
   "execution_count": null,
   "id": "2d1fb984-c7ca-4c9b-a8d2-c0627497a20a",
   "metadata": {},
   "outputs": [],
   "source": []
  }
 ],
 "metadata": {
  "kernelspec": {
   "display_name": "Python [conda env:celltyping]",
   "language": "python",
   "name": "conda-env-celltyping-py"
  },
  "language_info": {
   "codemirror_mode": {
    "name": "ipython",
    "version": 3
   },
   "file_extension": ".py",
   "mimetype": "text/x-python",
   "name": "python",
   "nbconvert_exporter": "python",
   "pygments_lexer": "ipython3",
   "version": "3.10.16"
  }
 },
 "nbformat": 4,
 "nbformat_minor": 5
}
