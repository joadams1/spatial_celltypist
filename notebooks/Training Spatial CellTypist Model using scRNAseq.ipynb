{
 "cells": [
  {
   "cell_type": "markdown",
   "id": "42b85c3f-bb17-4a94-a6ea-c8b5b7e049d7",
   "metadata": {},
   "source": [
    "# How to Train a Spatial CellTypist Model using scRNAseq Data"
   ]
  },
  {
   "cell_type": "markdown",
   "id": "cdfe2512-bcf3-423b-b0c0-3034492005b3",
   "metadata": {},
   "source": [
    "#### **Prerequisites**: \n",
    "- A virtual enviroment (eg conda environment) with CellTypist from the Teich Lab installed (refer to [the GitHub](https://github.com/Teichlab/celltypist))\n",
    "- Preprocessed and cell typed single-cell dataset saved in AnnData format\n",
    "- 10X Xenium dataset or the list of genes in the panel. \n",
    "\n",
    "For this workflow, I will be using the **Lung** dataset (avaliable [here]()) and the **10X Lung Xenium** dataset (avaliable [here]()). Both are used in the Segger paper (Heidari, Moorman et al. [*bioRxiv*](https://www.biorxiv.org/content/10.1101/2025.03.14.643160v1) 2025, [GitHub](https://github.com/dpeerlab/segger-analysis/))."
   ]
  },
  {
   "cell_type": "code",
   "execution_count": 1,
   "id": "a75ea5ee-ee50-4647-ad7d-853dc65ed939",
   "metadata": {},
   "outputs": [],
   "source": [
    "import celltypist as ct\n",
    "import ast\n",
    "from matplotlib import pyplot as plt\n",
    "from pathlib import Path\n",
    "import seaborn as sns\n",
    "from tqdm import tqdm\n",
    "import scanpy as sc\n",
    "import pandas as pd\n",
    "import numpy as np\n",
    "import scipy as sp\n",
    "import warnings\n",
    "import json\n",
    "import sys\n",
    "import os"
   ]
  },
  {
   "cell_type": "markdown",
   "id": "e989db38-048b-4cf6-ad7d-af257dc62e76",
   "metadata": {
    "tags": []
   },
   "source": [
    "## Training a CellTypist Model on scRNAseq Data\n",
    "For a more in-depth explanation of CellTypist and model training, refer to this [SAIL GitHub](https://github.com/joadams1/celltypist/blob/main/celltypist/How%20To%20Train%20a%20CellTypist%20Model.ipynb).\n",
    "\n",
    "In some cases, it is suitable to train a CellTypist model for spatial data on an annotated scRNA-seq dataset. But to do this there are some steps you must take first to make the RNA data more like Xenium data. First, you need to subset the RNA data to genes only in the gene panel of the data you are interested in annotating. This is because the model will not perform well if it is reliant on genes not included in the Xenium dataset to accurately cell type. "
   ]
  },
  {
   "cell_type": "code",
   "execution_count": 4,
   "id": "eda38ef1-1545-45ca-9db9-d7819edf796a",
   "metadata": {},
   "outputs": [],
   "source": [
    "# NSCLC Atlas\n",
    "filepath_ad = '../data_spatial/core_nsclc_atlas.h5ad' #replace with your own path\n",
    "ad_atlas_all = sc.read_h5ad(filepath_ad)\n",
    "\n",
    "#ensure var_names is the gene names and not Ensembl IDs\n",
    "ad_atlas_all.var_names = ad_atlas_all.var['feature_name']\n",
    "\n",
    "# Xenium Dataset\n",
    "filepath_xen = '../data_spatial/10x_lung_cell_id.h5ad' #replace with your own path\n",
    "ad_xen = sc.read_h5ad(filepath_xen)"
   ]
  },
  {
   "cell_type": "code",
   "execution_count": 9,
   "id": "6a1234b9-02ed-44a1-bf52-02a88c4c906a",
   "metadata": {},
   "outputs": [
    {
     "data": {
      "text/plain": [
       "AnnData object with n_obs × n_vars = 892296 × 383\n",
       "    obs: 'sample', 'uicc_stage', 'ever_smoker', 'age', 'donor_id', 'origin', 'dataset', 'ann_fine', 'cell_type_predicted', 'doublet_status', 'leiden', 'n_genes_by_counts', 'total_counts', 'total_counts_mito', 'pct_counts_mito', 'ann_coarse', 'cell_type_tumor', 'tumor_stage', 'EGFR_mutation', 'TP53_mutation', 'ALK_mutation', 'BRAF_mutation', 'ERBB2_mutation', 'KRAS_mutation', 'ROS_mutation', 'origin_fine', 'study', 'platform', 'cell_type_major', 'suspension_type', 'assay_ontology_term_id', 'cell_type_ontology_term_id', 'development_stage_ontology_term_id', 'disease_ontology_term_id', 'self_reported_ethnicity_ontology_term_id', 'is_primary_data', 'organism_ontology_term_id', 'sex_ontology_term_id', 'tissue_ontology_term_id', 'tissue_type', 'cell_type', 'assay', 'disease', 'organism', 'sex', 'tissue', 'self_reported_ethnicity', 'development_stage', 'observation_joinid'\n",
       "    var: 'is_highly_variable', 'mito', 'n_cells_by_counts', 'mean_counts', 'pct_dropout_by_counts', 'total_counts', 'feature_is_filtered', 'feature_name', 'feature_reference', 'feature_biotype', 'feature_length'\n",
       "    uns: '_scvi', 'ann_fine_colors', 'batch_condition', 'cell_type_major_colors', 'cell_type_ontology_term_id_colors', 'cell_type_predicted_colors', 'citation', 'dataset_colors', 'default_embedding', 'hvg', 'leiden_colors', 'neighbors', 'origin_colors', 'platform_colors', 'schema_reference', 'schema_version', 'title', 'umap'\n",
       "    obsm: 'X_scANVI', 'X_scVI', 'X_umap'\n",
       "    layers: 'count', 'counts_length_scaled'\n",
       "    obsp: 'connectivities', 'distances'"
      ]
     },
     "execution_count": 9,
     "metadata": {},
     "output_type": "execute_result"
    }
   ],
   "source": [
    "ad_atlas = ad_atlas_all[:,ad_atlas_all.var_names.isin(ad_xen.var_names)].copy()\n",
    "ad_atlas #check to make sure final atlas has the right number of genes"
   ]
  },
  {
   "cell_type": "markdown",
   "id": "515a0f81-086b-4806-9d5d-455b473c2517",
   "metadata": {},
   "source": [
    "As well, Xenium captures far fewer reads per cell than scRNA-seq data, so to make the two more comparable, you need to downsample the data to Xenium-level reads. Make note of how many counts per cell you scale this data to, because it will be important that you ensure the data set you apply this model to is similarly scaled. Generally, the model is pretty robust to the exact value you chose to scale to. "
   ]
  },
  {
   "cell_type": "code",
   "execution_count": 10,
   "id": "c142f06c-7846-4220-8a50-cf5dceca4bdb",
   "metadata": {},
   "outputs": [],
   "source": [
    "# Downsample and renormalize\n",
    "ad_atlas.X = ad_atlas.layers['count'].copy()\n",
    "sc.pp.downsample_counts(ad_atlas, counts_per_cell=100)\n",
    "ad_atlas.layers['norm_100'] = ad_atlas.X.copy()\n",
    "sc.pp.normalize_total(ad_atlas, layer='norm_100', target_sum=1e2)\n",
    "\n",
    "# Logarthmize\n",
    "ad_atlas.layers['lognorm_100'] = ad_atlas.layers['norm_100'].copy()\n",
    "if 'log1p' in ad_atlas.uns:\n",
    "    del ad_atlas.uns['log1p']\n",
    "sc.pp.log1p(ad_atlas, layer='lognorm_100')"
   ]
  },
  {
   "cell_type": "markdown",
   "id": "9c645f68-1aa1-494b-9c06-498d77258b8b",
   "metadata": {},
   "source": [
    "In order to balance out the cell types and not lose any during model training, you can subset your data to include the same number of cells per cell type. "
   ]
  },
  {
   "cell_type": "code",
   "execution_count": 11,
   "id": "89c68494-32e7-44a7-9a39-200cc11941a7",
   "metadata": {},
   "outputs": [],
   "source": [
    "gb = ad_atlas.obs.groupby('cell_type')\n",
    "sample = gb.sample(2000, replace=True).index.drop_duplicates()"
   ]
  },
  {
   "cell_type": "markdown",
   "id": "9290785d-89bc-4bb9-b4ea-9bb4dc8d77c9",
   "metadata": {},
   "source": [
    "Now that you have adjusted the scRNA-seq data, you can train a CellTypist Model. "
   ]
  },
  {
   "cell_type": "code",
   "execution_count": 15,
   "id": "c2c3be98-1805-410d-a778-b0b93f67b682",
   "metadata": {},
   "outputs": [
    {
     "name": "stderr",
     "output_type": "stream",
     "text": [
      "🍳 Preparing data before training\n",
      "🔬 Input data has 55198 cells and 383 genes\n",
      "⚖️ Scaling input data\n",
      "🏋️ Training data using logistic regression\n",
      "✅ Model training done!\n"
     ]
    },
    {
     "ename": "NameError",
     "evalue": "name 'filepath' is not defined",
     "output_type": "error",
     "traceback": [
      "\u001b[0;31m---------------------------------------------------------------------------\u001b[0m",
      "\u001b[0;31mNameError\u001b[0m                                 Traceback (most recent call last)",
      "Cell \u001b[0;32mIn[15], line 13\u001b[0m\n\u001b[1;32m      4\u001b[0m ct_model \u001b[38;5;241m=\u001b[39m ct\u001b[38;5;241m.\u001b[39mtrain(\n\u001b[1;32m      5\u001b[0m     ad_atlas[sample],\n\u001b[1;32m      6\u001b[0m     labels\u001b[38;5;241m=\u001b[39m\u001b[38;5;124m'\u001b[39m\u001b[38;5;124mcell_type\u001b[39m\u001b[38;5;124m'\u001b[39m,\n\u001b[0;32m   (...)\u001b[0m\n\u001b[1;32m      9\u001b[0m     max_iter\u001b[38;5;241m=\u001b[39m\u001b[38;5;241m100\u001b[39m,\n\u001b[1;32m     10\u001b[0m )\n\u001b[1;32m     12\u001b[0m filepath_ct \u001b[38;5;241m=\u001b[39m \u001b[38;5;124m'\u001b[39m\u001b[38;5;124mmodels/nsclc_celltypist_model.pkl\u001b[39m\u001b[38;5;124m'\u001b[39m \u001b[38;5;66;03m#replace with your path\u001b[39;00m\n\u001b[0;32m---> 13\u001b[0m ct_model\u001b[38;5;241m.\u001b[39mwrite(\u001b[43mfilepath\u001b[49m)\n",
      "\u001b[0;31mNameError\u001b[0m: name 'filepath' is not defined"
     ]
    }
   ],
   "source": [
    "# Predict on log counts\n",
    "ad_atlas.X = ad_atlas.layers['lognorm_100']\n",
    "\n",
    "ct_model = ct.train(\n",
    "    ad_atlas[sample],\n",
    "    labels='cell_type',\n",
    "    check_expression=False,\n",
    "    n_jobs=32,\n",
    "    max_iter=100,\n",
    ")\n",
    "\n",
    "filepath_ct = 'models/nsclc_celltypist_model.pkl' #replace with your path\n",
    "ct_model.write(filepath)"
   ]
  },
  {
   "cell_type": "markdown",
   "id": "48457c68-f6ae-4118-b231-f6bc4142bf51",
   "metadata": {},
   "source": [
    "Now you can use this model to train other datasets. For an explanatory work-through for how to do so, see the [`Using Xenium CellTypist Models`](https://github.com/joadams1/spatial_celltypist/blob/main/notebooks/Using%20Xenium%20CellTypist%20Model.ipynb) notebook. "
   ]
  }
 ],
 "metadata": {
  "kernelspec": {
   "display_name": "Python [conda env:celltyping]",
   "language": "python",
   "name": "conda-env-celltyping-py"
  },
  "language_info": {
   "codemirror_mode": {
    "name": "ipython",
    "version": 3
   },
   "file_extension": ".py",
   "mimetype": "text/x-python",
   "name": "python",
   "nbconvert_exporter": "python",
   "pygments_lexer": "ipython3",
   "version": "3.10.16"
  }
 },
 "nbformat": 4,
 "nbformat_minor": 5
}
